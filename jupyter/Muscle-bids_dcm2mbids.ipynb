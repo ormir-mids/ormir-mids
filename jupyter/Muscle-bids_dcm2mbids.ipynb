{
 "cells": [
  {
   "cell_type": "markdown",
   "id": "17dd42d1",
   "metadata": {
    "id": "6cce1bbf-5964-4912-a4d1-e1203950122a"
   },
   "source": [
    "# [Ormir-mids](https://pypi.org/project/muscle-bids): dcm2mbids\n",
    "\n",
    "By: Leonardo Barzaghi, [Donnie Cameron](https://github.com/DC-3T), Judith Cueto Fernandez, Jilmen Quintiens, [Francesco Santini](https://github.com/fsantini), 2022\n",
    "Version 1.0  \n",
    "Code licence: GPL v3  \n",
    "Narrative licence: CC-BY  \n",
    "How to cite: (TBD)\n",
    "\n",
    "---\n",
    "---"
   ]
  },
  {
   "cell_type": "markdown",
   "id": "4a9c2ea7",
   "metadata": {
    "id": "dbee1a23-50eb-472d-b0ff-e23ac00eb22c"
   },
   "source": [
    "## Aims\n",
    "\n",
    "The [ormir-mids package](https://github.com/muscle-bids/muscle-bids/tree/Jupyter) converts traditional musculoskeletal MRI data in DICOM format into a structure compatible with [MIDS](https://bids.neuroimaging.io/)[<sup id=\"fn1-back\">1</sup>](#fn1). It can be run as a standalone executable or called within Python scripts as a library.\n",
    "\n",
    "In this notebook you will learn:\n",
    "\n",
    "1. How to install `ormir-mids`; and\n",
    "\n",
    "2. How to use `ormir-mids` as either an executable or as a Python module."
   ]
  },
  {
   "cell_type": "markdown",
   "id": "3a28992c",
   "metadata": {},
   "source": [
    "### Table of contents\n",
    "\n",
    "[Installation](#Installation)  \n",
    "[Usage examples](#Usage-examples)  \n",
    "[Dependencies](#Dependencies)  \n",
    "[References](#References)  \n",
    "[Acknowledgements](#Acknowledgements)\n",
    "    "
   ]
  },
  {
   "cell_type": "markdown",
   "id": "ff290cbc",
   "metadata": {
    "id": "dbee1a23-50eb-472d-b0ff-e23ac00eb22c"
   },
   "source": [
    "---"
   ]
  },
  {
   "cell_type": "markdown",
   "id": "36288364",
   "metadata": {},
   "source": [
    "## Installation\n",
    "\n",
    "To install the ormir-mids package, run the code below, noting the dependencies at the bottom of this document."
   ]
  },
  {
   "cell_type": "markdown",
   "id": "87c8232e",
   "metadata": {
    "id": "1ez9P2peUcj2"
   },
   "source": [
    "First, we clone the git repository:"
   ]
  },
  {
   "cell_type": "code",
   "execution_count": null,
   "id": "73997652",
   "metadata": {
    "id": "06LJXDhkMuAI"
   },
   "outputs": [],
   "source": [
    "!git clone https://github.com/muscle-bids/muscle-bids.git"
   ]
  },
  {
   "cell_type": "markdown",
   "id": "f3f37ae9",
   "metadata": {
    "id": "12lJxhKEUjcH"
   },
   "source": [
    "Now we can install the package using `pip`. This will also install the required dependencies."
   ]
  },
  {
   "cell_type": "code",
   "execution_count": null,
   "id": "9d1ab374",
   "metadata": {
    "id": "-hbAjx-uNW2e",
    "scrolled": true,
    "tags": []
   },
   "outputs": [],
   "source": [
    "%cd muscle-bids\n",
    "!pip install .\n",
    "!pip install --upgrade nibabel # the default nibabel has bugs"
   ]
  },
  {
   "cell_type": "markdown",
   "id": "8f1895df",
   "metadata": {
    "id": "J4tJagweUrAg"
   },
   "source": [
    "The package is now ready to be used! Lets decompress the example files."
   ]
  },
  {
   "cell_type": "code",
   "execution_count": null,
   "id": "95689715",
   "metadata": {
    "id": "a46e4cb1-75d9-4ae7-bdd7-9bc8123ad334",
    "scrolled": true,
    "tags": []
   },
   "outputs": [],
   "source": [
    "!unzip dicom.zip"
   ]
  },
  {
   "cell_type": "markdown",
   "id": "9dfbb967",
   "metadata": {
    "id": "UCJ9D9uKU5Rc"
   },
   "source": [
    "Let's have a look at what data are available. We'll use the Python package `directory_tree`, which allows us to display our directory structure."
   ]
  },
  {
   "cell_type": "code",
   "execution_count": null,
   "id": "7ac9d546",
   "metadata": {
    "id": "KBl74tsGYrWD"
   },
   "outputs": [],
   "source": [
    "!pip install directory_tree"
   ]
  },
  {
   "cell_type": "code",
   "execution_count": null,
   "id": "cc9357bd",
   "metadata": {
    "id": "8J8pbxXWTjg_"
   },
   "outputs": [],
   "source": [
    "from directory_tree import display_tree\n",
    "display_tree('dicom')"
   ]
  },
  {
   "cell_type": "markdown",
   "id": "842ef162",
   "metadata": {
    "id": "YqrMAZxIU9oO"
   },
   "source": [
    "These are some multi-echo gradient-echo data from GE, and some multi-echo spin-echo data from Philips.\n",
    "You can browse these files inside the dicom directory from the file explorer. You will notice that the GE data comprise multiple DICOM files, whereas Philips data are contained in a single, large file."
   ]
  },
  {
   "cell_type": "markdown",
   "id": "38833f07",
   "metadata": {
    "id": "a62ba6e4-7f01-48d5-ae7d-304c353ba1d8"
   },
   "source": [
    "You are now ready to start using the ormir-mids package to standardise your data according to BIDS!\n",
    "\n",
    "---"
   ]
  },
  {
   "cell_type": "markdown",
   "id": "b96f9f83",
   "metadata": {},
   "source": [
    "## Usage examples\n",
    "\n",
    "We will now demonstrate the usage of `ormir-mids` via two use cases: \n",
    "    \n",
    "1. Running `dcm2mbids` as an executable to convert DICOM data to the BIDS format.\n",
    "2. Importing `ormir-mids` as a Python module to find, load, and interrogate BIDS-format data.\n",
    "    \n"
   ]
  },
  {
   "cell_type": "markdown",
   "id": "a10487e7",
   "metadata": {
    "id": "a0d240f4-7c7b-4d7a-9a74-1da33bad460e"
   },
   "source": [
    "### 1. Usage: Run as executable\n",
    "\n",
    "The Python package is set up in such a way that, after installing, you can use the code in your own code, and directly from the command line as well.\n",
    "\n",
    "The commandline script is called `dcm2mbids.exe` and is by default stored in the same folder of your Python executable (and should be added to your system's PATH variable). \n",
    "\n",
    "Let's look at how we can call it.\n"
   ]
  },
  {
   "cell_type": "code",
   "execution_count": null,
   "id": "2129d9ef",
   "metadata": {
    "id": "gHqAE5QWVvLT"
   },
   "outputs": [],
   "source": [
    "!dcm2mbids -h"
   ]
  },
  {
   "cell_type": "markdown",
   "id": "e2cc34cd",
   "metadata": {
    "id": "KnEPprTsV1MU"
   },
   "source": [
    "In principle, the program should be able to automatically figure out what the data are. Let's see what happens when we run `dcm2bids` recursively in our root folder:"
   ]
  },
  {
   "cell_type": "code",
   "execution_count": null,
   "id": "bc4335d7",
   "metadata": {
    "id": "ZdXE9SGrWR5s"
   },
   "outputs": [],
   "source": [
    "!dcm2mbids -a mypatient -r dicom bids_output"
   ]
  },
  {
   "cell_type": "markdown",
   "id": "5804144e",
   "metadata": {
    "id": "6gHt7vJnZELE"
   },
   "source": [
    "The output data are saved to a new directory called `bids_output`. Let's see what's inside:"
   ]
  },
  {
   "cell_type": "code",
   "execution_count": null,
   "id": "3299d8c4",
   "metadata": {
    "id": "LQQC6mlmZLX0"
   },
   "outputs": [],
   "source": [
    "display_tree('bids_output')"
   ]
  },
  {
   "cell_type": "markdown",
   "id": "f89a4a47",
   "metadata": {
    "id": "jqxPHtZCZPSt"
   },
   "source": [
    "You can see that the converted data are sorted under `anat` for anatomical images and `quant` for quantitative maps. All the maps and MESE images were previously condensed in a single Enhanced DICOM file by the Philips scanner.\n",
    "\n",
    "Every dataset has a nii.gz file containing the image data, and a set of json files containing the headers. Specifically:\n",
    "\n",
    "\n",
    "*   The simple `.json` file contains useful information about the data\n",
    "*   The `_patient.json` file contains private patient data. Delete this file if you want to anonymise your data!\n",
    "*   The `_extra.json` file contains extra information that can be used to reconstruct the DICOM dataset from the BIDS data, so it can be stored again in PACS.\n",
    "\n"
   ]
  },
  {
   "cell_type": "markdown",
   "id": "49461c28",
   "metadata": {
    "id": "44de8d8e-c130-4dd0-910e-ac834d01f327"
   },
   "source": [
    "  ### 2. Usage: Import as python module\n",
    "\n",
    "The ormir-mids package can also be used as an imported module within your Python scripts. Ideally, when you program an image processing tool, you will want to use this particular BIDS format for both input and output. You just need to point your Python script to the root folder of your patient information.\n",
    "\n",
    "First, let's __import__ the required modules:"
   ]
  },
  {
   "cell_type": "code",
   "execution_count": null,
   "id": "8a0ad812",
   "metadata": {},
   "outputs": [],
   "source": [
    "from muscle_bids.utils.io import find_bids, load_bids\n",
    "import nibabel as nib "
   ]
  },
  {
   "cell_type": "markdown",
   "id": "379f29ca",
   "metadata": {},
   "source": [
    "Now, let's - very simply - load some multi-echo spin-echo (MESE) data.\n",
    "\n",
    "Let's see if we can __find__ the MESE MIDS data first: "
   ]
  },
  {
   "cell_type": "code",
   "execution_count": null,
   "id": "ca31a5ab",
   "metadata": {
    "id": "490781a9-6a14-4251-af89-90cff102cbc8"
   },
   "outputs": [],
   "source": [
    "BIDS_FOLDER = 'bids_output'\n",
    "\n",
    "mese_data_list = find_bids(BIDS_FOLDER, 'mese')\n",
    "\n",
    "print(mese_data_list)"
   ]
  },
  {
   "cell_type": "markdown",
   "id": "17a8f3c7",
   "metadata": {
    "id": "d23b4d23-3ba6-4c79-ae5c-c7e7853088b1"
   },
   "source": [
    "Good news! There's at least one MIDS dataset with MESE data! Let's __load__ those data:"
   ]
  },
  {
   "cell_type": "code",
   "execution_count": null,
   "id": "4e57b087",
   "metadata": {
    "id": "3d43cfc8-6667-4ab5-a147-db1578bc0e1f"
   },
   "outputs": [],
   "source": [
    "bids_mese = load_bids(mese_data_list[0])\n",
    "nib.viewers.OrthoSlicer3D(bids_mese)"
   ]
  },
  {
   "cell_type": "markdown",
   "id": "7e297122",
   "metadata": {
    "id": "d315d30c-071a-474d-93ec-354c838371aa"
   },
   "source": [
    "The BIDS file also has three dictionaries associated with it:\n",
    "\n",
    "*   `bids_header`: containing relevant information\n",
    "*   `patient_header`: containing privacy-relevant information (missing if anonymized)\n",
    "*   `extra_header`: a dump of the other DICOM tags\n",
    "\n",
    "Let's have a look, for example, at the MIDS header.\n"
   ]
  },
  {
   "cell_type": "code",
   "execution_count": null,
   "id": "9e3746c0",
   "metadata": {
    "id": "y2rHNaPDdNPV"
   },
   "outputs": [],
   "source": [
    "bids_mese.bids_header"
   ]
  },
  {
   "cell_type": "markdown",
   "id": "2e20185e",
   "metadata": {
    "id": "sc4IXXzkdXf2"
   },
   "source": [
    "You can now use the MIDS header information in tandem with your data (accessible from `bids_mese.volume`) to do any further processing, and you can later save the processed output in MIDS format, or as DICOM files."
   ]
  },
  {
   "cell_type": "markdown",
   "id": "29119c6b",
   "metadata": {},
   "source": [
    "---\n",
    "## Dependencies"
   ]
  },
  {
   "cell_type": "code",
   "execution_count": null,
   "id": "11cb469e",
   "metadata": {
    "scrolled": true,
    "tags": []
   },
   "outputs": [],
   "source": [
    "!pip install watermark"
   ]
  },
  {
   "cell_type": "code",
   "execution_count": null,
   "id": "adc3c213",
   "metadata": {},
   "outputs": [],
   "source": [
    "import muscle_bids  # Import full package to avoid garbled watermark output"
   ]
  },
  {
   "cell_type": "code",
   "execution_count": null,
   "id": "d1f4b35c",
   "metadata": {},
   "outputs": [],
   "source": [
    "%load_ext watermark\n",
    "\n",
    "%watermark\n",
    "%watermark --iversions"
   ]
  },
  {
   "cell_type": "markdown",
   "id": "246a179f",
   "metadata": {},
   "source": [
    "---\n",
    "## References\n",
    "[<sup id=\"fn1\">1</sup>](#fn1-back) Gorgolewski, K., Auer, T., Calhoun, V. et al. The brain imaging data structure, a format for organizing and describing outputs of neuroimaging experiments. Sci Data 3, 160044 (2016). https://doi.org/10.1038/sdata.2016.44"
   ]
  },
  {
   "cell_type": "markdown",
   "id": "74a046ff",
   "metadata": {},
   "source": [
    "---\n",
    "## Acknowledgements\n",
    "This package was developed with the support of the ORMIR community during the Jupyter Community Workshop and hackathon in Maastricht, The Netherlands, in June 2022.  \n",
    "\n",
    "Image I/O is based on [DOSMA](https://github.com/ad12/DOSMA) by Arjun Desai. A stripped-down version of DOSMA is present in muscle-bids/dosma_io.  \n",
    "\n",
    "Notebook created using the [ORMIR community](https://ormircommunity.github.io/) template (version 1.0, 2023)."
   ]
  }
 ],
 "metadata": {
  "colab": {
   "name": "Muscle-bids_dcm2mbids.ipynb",
   "provenance": []
  },
  "kernelspec": {
   "display_name": "Python 3 (ipykernel)",
   "language": "python",
   "name": "python3"
  },
  "language_info": {
   "codemirror_mode": {
    "name": "ipython",
    "version": 3
   },
   "file_extension": ".py",
   "mimetype": "text/x-python",
   "name": "python",
   "nbconvert_exporter": "python",
   "pygments_lexer": "ipython3",
   "version": "3.10.8"
  }
 },
 "nbformat": 4,
 "nbformat_minor": 5
}
