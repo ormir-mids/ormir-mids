{
 "cells": [
  {
   "attachments": {},
   "cell_type": "markdown",
   "id": "65a33287",
   "metadata": {
    "tags": []
   },
   "source": [
    "# Ormir-mids: dcm2omids \n",
    "\n",
    "- By: [Simone Poncioni](https://github.com/simoneponcioni), [Serena Bonaretti](https://sbonaretti.github.io/)\n",
    "- Notebook created by merging and modifying a notebook by Leonardo Barzaghi, [Donnie Cameron](https://github.com/DC-3T), Judith Cueto Fernandez, Jilmen Quintiens, [Francesco Santini](https://github.com/fsantini), and a notebook by [Gianluca Iori](https://github.com/gianthk) and Francesco Chiumento\n",
    "- Code license: Apache 2.0\n",
    "- Narrative license: CC-BY-NC-SA\n",
    "- How to cite: Sarah Manske, Mahdi Hosseinitabatabaei, Pholpat Durongbhan, Michael Kuczynski, Simone Poncioni, Gianluca Iori, Serena Bonaretti. *Why and how to share MSK imaging data?* Worskhop at the 24th International Workshop on Quantitative Musculoskeletal Imaging (QMSKI). The Barossa Valley, South Australia. November 3-8, 2024.\n",
    "\n",
    "---"
   ]
  },
  {
   "cell_type": "markdown",
   "id": "4a9c2ea7",
   "metadata": {
    "id": "dbee1a23-50eb-472d-b0ff-e23ac00eb22c"
   },
   "source": [
    "### Aims\n",
    "\n",
    "The [ORMIR-MIDS package](https://github.com/ormir-mids/ormir-mids/tree/Jupyter) converts musculoskeletal DICOM images into a data structure inspired by [BIDS](https://bids.neuroimaging.io/)[<sup id=\"fn1-back\">1</sup>](#fn1), following the [ORMIR-MIDS specs](https://ormir-mids.github.io/specs.html)\n",
    "\n",
    "In this notebook you will learn how to:\n",
    "\n",
    "1. Convert images to ORMIR-MIDS data structure \n",
    "2. Explore an ORMIR-MIDS data structure\n",
    "3. Explore an image volume (before conversion)\n",
    "4. Visualize the image volume in jupyter notebook"
   ]
  },
  {
   "cell_type": "markdown",
   "id": "cad68259",
   "metadata": {},
   "source": [
    "---"
   ]
  },
  {
   "cell_type": "markdown",
   "id": "17563eea-2138-417d-8307-dbabc4f6ae24",
   "metadata": {},
   "source": [
    "### Installations\n",
    "\n",
    "- Let's install ORMIR-MIDS:"
   ]
  },
  {
   "cell_type": "code",
   "execution_count": null,
   "id": "53e48de8-9239-402d-87d5-a6260b07153e",
   "metadata": {},
   "outputs": [],
   "source": [
    "%pip install ormir-mids\n",
    "\n",
    "# Alternatively, you can install the package from the source code\n",
    "# !git clone https://github.com/ormir-mids/ormir-mids.git\n",
    "# %cd ormir-mids\n",
    "# %pip install -e ."
   ]
  },
  {
   "cell_type": "markdown",
   "id": "f994d1e9-6b0e-433f-b811-ba612a4c97d8",
   "metadata": {},
   "source": [
    "- To explore the folder and data structure, we will need the [*Directory Tree*](`https://pypi.org/project/directory-tree/`) package:"
   ]
  },
  {
   "cell_type": "code",
   "execution_count": null,
   "id": "6e566021-b91c-41dc-a452-fdd6f4394a06",
   "metadata": {},
   "outputs": [],
   "source": [
    "# to explore the folder and data structure\n",
    "%pip install directory_tree\n",
    "# to visualize images in a jupyter notebook\n",
    "%pip install k3d\n",
    "# to convert to SimpleITK\n",
    "%pip install SimpleITK\n",
    "# print out our machine characteristics and the version of the packages (for reproducibility)\n",
    "%pip install watermark"
   ]
  },
  {
   "cell_type": "markdown",
   "id": "328e2d2f",
   "metadata": {},
   "source": [
    "Or if you use conda:\n",
    "> `conda install -c conda-forge directory-tree k3d watermark`\n",
    "\n",
    "> `conda install -c https://conda.anaconda.org/simpleitk SimpleITK`"
   ]
  },
  {
   "cell_type": "markdown",
   "id": "96c5bb15",
   "metadata": {},
   "source": [
    "### Imports \n",
    "\n",
    "- We will need to use the following packages:"
   ]
  },
  {
   "cell_type": "code",
   "execution_count": 43,
   "id": "1a3f0c76-01bd-4a7a-83d0-230b92f058c5",
   "metadata": {},
   "outputs": [],
   "source": [
    "import ormir_mids\n",
    "from ormir_mids.dcm2omids import convert_dicom_to_ormirmids\n",
    "from ormir_mids.utils.io import find_omids, load_omids, load_dicom"
   ]
  },
  {
   "cell_type": "code",
   "execution_count": 44,
   "id": "d42edcef-1703-41ac-93e7-d372b3787605",
   "metadata": {},
   "outputs": [],
   "source": [
    "import zipfile\n",
    "from pathlib import Path\n",
    "\n",
    "import requests\n",
    "import SimpleITK as sitk\n",
    "import k3d\n",
    "import numpy as np\n",
    "\n",
    "from directory_tree import DisplayTree"
   ]
  },
  {
   "cell_type": "markdown",
   "id": "15494bf1",
   "metadata": {},
   "source": [
    "### Functions\n",
    "\n",
    "- This is a function to download and unzip the folder containing the image data:"
   ]
  },
  {
   "cell_type": "code",
   "execution_count": 45,
   "id": "d5284208",
   "metadata": {},
   "outputs": [],
   "source": [
    "def download_and_unzip(url, extract_to='.'):\n",
    "    \"\"\"\n",
    "    Downloads a ZIP file from the specified URL and extracts it.\n",
    "\n",
    "    Parameters\n",
    "    ----------\n",
    "    url : str\n",
    "        The URL of the ZIP file to download.\n",
    "    extract_to : str, optional\n",
    "        The directory to extract the contents to. Defaults to the current directory.\n",
    "\n",
    "    Returns\n",
    "    -------\n",
    "    None\n",
    "    \"\"\"\n",
    "    \n",
    "    extract_to_path = Path(extract_to)\n",
    "    if not extract_to_path.exists():\n",
    "        extract_to_path.mkdir(parents=True)\n",
    "    local_zip_path = extract_to_path / 'downloaded.zip'\n",
    "\n",
    "    response = requests.get(url)\n",
    "    response.raise_for_status()  # Ensure we notice bad responses\n",
    "\n",
    "    with local_zip_path.open('wb') as file:\n",
    "        file.write(response.content)\n",
    "\n",
    "    with zipfile.ZipFile(local_zip_path, 'r') as zip_ref:\n",
    "        zip_ref.extractall(extract_to_path)\n",
    "\n",
    "    local_zip_path.unlink()"
   ]
  },
  {
   "cell_type": "markdown",
   "id": "aa7226b3",
   "metadata": {},
   "source": [
    "### Variables\n",
    "\n",
    "- Here are the variables we will use:"
   ]
  },
  {
   "cell_type": "code",
   "execution_count": 46,
   "id": "ed248244",
   "metadata": {},
   "outputs": [],
   "source": [
    "# zipped data folder to download\n",
    "zipped_folder = \"https://github.com/ormir-mids/ormir-mids/raw/main/dicom.zip\"\n",
    "# designated unzipped data folder\n",
    "dicom_folder = \"data\"\n",
    "# folder that will contain the images in ORMIR-MIDS data structure\n",
    "omids_folder = \"omids_data\""
   ]
  },
  {
   "cell_type": "markdown",
   "id": "acc6e0f9-ea0b-4231-9f43-9c153c137b06",
   "metadata": {},
   "source": [
    "---\n",
    "\n",
    "## Getting the data"
   ]
  },
  {
   "cell_type": "markdown",
   "id": "5b64a0c2-a62e-4798-ba68-30eda4df31e5",
   "metadata": {},
   "source": [
    "- Extract the data from the provided zipped folder and save them in *dicom_folder*:"
   ]
  },
  {
   "cell_type": "code",
   "execution_count": 47,
   "id": "0dd3053c-926a-4862-abb0-7bddabe846a6",
   "metadata": {},
   "outputs": [],
   "source": [
    "download_and_unzip(zipped_folder, extract_to=dicom_folder)"
   ]
  },
  {
   "cell_type": "markdown",
   "id": "9dfbb967",
   "metadata": {
    "id": "UCJ9D9uKU5Rc"
   },
   "source": [
    "- Let's have a look at what data are available. We'll use the Python package `directory_tree`, which allows us to display our directory structure:"
   ]
  },
  {
   "cell_type": "code",
   "execution_count": null,
   "id": "cc9357bd",
   "metadata": {
    "id": "8J8pbxXWTjg_",
    "scrolled": true
   },
   "outputs": [],
   "source": [
    "DisplayTree(dirPath=dicom_folder,\n",
    "            stringRep=False,\n",
    "            header=True,\n",
    "            maxDepth=3,\n",
    "            showHidden=False,\n",
    "            sortBy=2, # 0 - Default, 1 - Files First, 2 - Directories First\n",
    "            )"
   ]
  },
  {
   "cell_type": "markdown",
   "id": "842ef162",
   "metadata": {
    "id": "YqrMAZxIU9oO"
   },
   "source": [
    "- As you can see, these are one Multi-Echo GRadient-Echo (MEGRE) image from GE and one Multi-Echo Spin-Echo (MESE) image from Philips\n",
    "- The GE data comprise multiple DICOM files, whereas the Philips data are contained in a single, large file\n",
    "- You can also browse the files inside their dicom directory from the file explorer"
   ]
  },
  {
   "cell_type": "markdown",
   "id": "44a6c6a3-d838-4311-b342-7cd23f7af97f",
   "metadata": {},
   "source": [
    "---\n",
    "# 1. Converting to ORMIR-MIDS data structure"
   ]
  },
  {
   "cell_type": "markdown",
   "id": "e2cc34cd",
   "metadata": {
    "id": "KnEPprTsV1MU"
   },
   "source": [
    "- Let's convert the images from out-of-scanner `.dcm` to the ORMIR-MIDS structure:"
   ]
  },
  {
   "cell_type": "code",
   "execution_count": null,
   "id": "bc4335d7",
   "metadata": {
    "id": "ZdXE9SGrWR5s"
   },
   "outputs": [],
   "source": [
    "convert_dicom_to_ormirmids(input_folder=dicom_folder+\"/dicom/\", output_folder=omids_folder, anonymize='anon', recursive=True)"
   ]
  },
  {
   "cell_type": "markdown",
   "id": "5facc56b",
   "metadata": {},
   "source": [
    "Alternatively, you can run it in the command line as executable\n",
    "\n",
    "Retrieve documentation:\n",
    "```sh\n",
    "dcm2omids -h\n",
    "```\n",
    "\n",
    "Anonymize and convert the data:\n",
    "\n",
    "\n",
    "```sh\n",
    "# dcm2omids -anonymize <pseudo_name> -recursive <input_dir> <output_dir>\n",
    "dcm2omids -a mypatient -r data/dicom bids_output\n",
    "```"
   ]
  },
  {
   "cell_type": "markdown",
   "id": "5804144e",
   "metadata": {
    "id": "6gHt7vJnZELE"
   },
   "source": [
    "- The output data are saved to the new directory called `omids_folder`. Let's explore it:"
   ]
  },
  {
   "cell_type": "code",
   "execution_count": null,
   "id": "3299d8c4",
   "metadata": {
    "id": "LQQC6mlmZLX0",
    "scrolled": true
   },
   "outputs": [],
   "source": [
    "DisplayTree(dirPath=omids_folder,\n",
    "            stringRep=False,\n",
    "            header=True,\n",
    "            maxDepth=3,\n",
    "            showHidden=False,\n",
    "            sortBy=2, # 0 - Default, 1 - Files First, 2 - Directories First\n",
    "            )"
   ]
  },
  {
   "cell_type": "markdown",
   "id": "f89a4a47",
   "metadata": {
    "id": "jqxPHtZCZPSt"
   },
   "source": [
    "- The converted data are sorted under `mr-anat` for anatomical images and `mr-quant` for quantitative maps\n",
    "- Every dataset is composed of:\n",
    "  -  A `.nii.gz` file containing the image data\n",
    "  -  A set of `.json` files containing the headers. Specifically:\n",
    "     - A simple `.json` file containing useful information about the data\n",
    "     - A `_patient.json` file containing private patient data. *Delete this file if you want to anonymize your data!*\n",
    "     - A `_extra.json` file containing extra information that can be used to reconstruct the DICOM dataset from the ORMIR-MIDS data, so it can be stored again in PACS\n",
    "\n"
   ]
  },
  {
   "cell_type": "markdown",
   "id": "5dc00440-edbd-4bfb-b498-c1830c7fc51f",
   "metadata": {},
   "source": [
    "---\n",
    "# 2. Exploring the ORMIR-MIDS data structure"
   ]
  },
  {
   "cell_type": "markdown",
   "id": "1404e25c-ee17-492c-8663-64824edf398b",
   "metadata": {},
   "source": [
    "### 2.1 Finding images\n",
    "- Let's find the `mese` image in the folder:"
   ]
  },
  {
   "cell_type": "code",
   "execution_count": null,
   "id": "ca31a5ab",
   "metadata": {
    "id": "490781a9-6a14-4251-af89-90cff102cbc8"
   },
   "outputs": [],
   "source": [
    "mese_data_list = find_omids(omids_folder, 'mese')\n",
    "print(mese_data_list)"
   ]
  },
  {
   "cell_type": "markdown",
   "id": "b6f51215-b37c-4fcc-ac30-bb3edfd9b43b",
   "metadata": {},
   "source": [
    "- *Exercise: Find the `mese_ph` image in the folder:*"
   ]
  },
  {
   "cell_type": "code",
   "execution_count": null,
   "id": "48821597-94b0-44c2-93e5-bf26c333b643",
   "metadata": {},
   "outputs": [],
   "source": []
  },
  {
   "cell_type": "markdown",
   "id": "1d17563c-0c24-4cc8-bcb3-6a714c8ac95e",
   "metadata": {},
   "source": [
    "### 2.2 Reading an image"
   ]
  },
  {
   "cell_type": "code",
   "execution_count": 53,
   "id": "4e57b087",
   "metadata": {
    "id": "3d43cfc8-6667-4ab5-a147-db1578bc0e1f"
   },
   "outputs": [],
   "source": [
    "omids_mese = load_omids(mese_data_list[0])"
   ]
  },
  {
   "cell_type": "markdown",
   "id": "207f6545-e57d-4953-9aee-54dcda5a5965",
   "metadata": {},
   "source": [
    "### 2.3 Reading `.json` files"
   ]
  },
  {
   "cell_type": "markdown",
   "id": "1b1ef5b3-bf6b-40a6-9bee-57815f052697",
   "metadata": {},
   "source": [
    "- Each image volume has three dictionaries (corresponding to the three `.json` files) associated with it:\n",
    "  - `omids_header`containing relevant information\n",
    "  - `patient_header` containing privacy-relevant information (file is missing in case of anonymization)\n",
    "  - `extra_header`: a collection of the remaining DICOM tags"
   ]
  },
  {
   "cell_type": "markdown",
   "id": "8b8f5d38-b751-4094-b542-901dc33c036d",
   "metadata": {},
   "source": [
    "- Let's read the patient header:"
   ]
  },
  {
   "cell_type": "code",
   "execution_count": null,
   "id": "9e3746c0",
   "metadata": {
    "id": "y2rHNaPDdNPV"
   },
   "outputs": [],
   "source": [
    "omids_mese.patient_header"
   ]
  },
  {
   "cell_type": "markdown",
   "id": "86370892-844e-4dea-a9f1-63ded9487a0b",
   "metadata": {},
   "source": [
    "- *Exercise: Read the extra header*:"
   ]
  },
  {
   "cell_type": "code",
   "execution_count": null,
   "id": "f75764ed-2c24-4a3b-97e7-566ff3fbaffa",
   "metadata": {
    "scrolled": true
   },
   "outputs": [],
   "source": [
    "omids_mese.extra_header"
   ]
  },
  {
   "cell_type": "markdown",
   "id": "5e5aaa67-ff0e-4f5c-ad72-03325c8f45f2",
   "metadata": {},
   "source": [
    "---\n",
    "## 3. Exploring `.dcm` images before conversion"
   ]
  },
  {
   "cell_type": "markdown",
   "id": "81824443",
   "metadata": {},
   "source": [
    "### 3.1 Load DICOM image, header, and metadata"
   ]
  },
  {
   "cell_type": "markdown",
   "id": "2abfa76e-e335-4b30-92ee-a0ab59c5f0f9",
   "metadata": {},
   "source": [
    "- ORMIR-MIDS also allows us to explore the content of the `.dcm`, before being converted to the ORMIR-MIDS structure:"
   ]
  },
  {
   "cell_type": "markdown",
   "id": "cb1a3061-4b34-40af-85f1-cd0d3a184f28",
   "metadata": {},
   "source": [
    "- Load the MESE image in `.dcm`:"
   ]
  },
  {
   "cell_type": "code",
   "execution_count": 56,
   "id": "e42038b4-b6b3-46d9-a6a4-4e0d8a99c6e7",
   "metadata": {},
   "outputs": [],
   "source": [
    "img_dcm = load_dicom('data/dicom/Philips_MESE_T2.dcm')"
   ]
  },
  {
   "cell_type": "markdown",
   "id": "960d69b8-a3ac-4185-8172-835174788d85",
   "metadata": {},
   "source": [
    "- Explore the `.dcm` image header:"
   ]
  },
  {
   "cell_type": "code",
   "execution_count": null,
   "id": "e23826f9-0e84-4bbd-ae12-f88d641561c1",
   "metadata": {},
   "outputs": [],
   "source": [
    "print(f'Scanner Manufacturer: {img_dcm.bids_header[\"Manufacturer\"]} ({type(img_dcm.bids_header[\"Manufacturer\"])})')\n",
    "print(f'Scanner Orientation: {img_dcm.orientation} ({type(img_dcm.orientation)})')\n",
    "print(f'Image Type: {img_dcm.dtype} ({type(img_dcm.dtype)})')\n",
    "print(f'Image Shape: {img_dcm.shape} ({type(img_dcm.shape)})')\n",
    "print(f'Scanner Origin: {img_dcm.scanner_origin} ({type(img_dcm.scanner_origin)})')\n",
    "print(f'Scanner spacing: {img_dcm.pixel_spacing} ({type(img_dcm.pixel_spacing)})')"
   ]
  },
  {
   "cell_type": "markdown",
   "id": "b929145a-f76d-4350-918b-ee1afb7c6927",
   "metadata": {},
   "source": [
    "- Crop the volume. To create a separate subvolume we can do the following. Metadata will be sliced appropriately."
   ]
  },
  {
   "cell_type": "code",
   "execution_count": null,
   "id": "be229090-736e-4bee-8e89-0ace52a1c380",
   "metadata": {},
   "outputs": [],
   "source": [
    "img_dcm_subvolume = img_dcm[50:90, 50:90, 30:70]\n",
    "print(f'Original Shape: {img_dcm.shape}')\n",
    "print(f'Subvolume Shape: {img_dcm_subvolume.shape}')"
   ]
  },
  {
   "cell_type": "markdown",
   "id": "521b1c00-e951-4c6a-ae06-7315dd368ef5",
   "metadata": {},
   "source": [
    "### 3.2 Convert to SimpleITK"
   ]
  },
  {
   "cell_type": "markdown",
   "id": "502d7f8a-61a6-445f-90f7-5e61d5e5e8de",
   "metadata": {},
   "source": [
    "- Since many of us use SimpleITK in our codes, here is a conversion example:"
   ]
  },
  {
   "cell_type": "code",
   "execution_count": null,
   "id": "75808914-f14e-415a-aba0-31141007e236",
   "metadata": {},
   "outputs": [],
   "source": [
    "img_sitk = img_dcm.to_sitk()\n",
    "print(f'Before conversion, img_dcm is of type: {type(img_dcm)}\\nAfter conversion, img_sitk is of type: {type(img_sitk)}')"
   ]
  },
  {
   "cell_type": "markdown",
   "id": "4d1d4831-f5f2-4e27-98cf-65104c6dd681",
   "metadata": {},
   "source": [
    "- Inspect SimpleITK image contents:"
   ]
  },
  {
   "cell_type": "code",
   "execution_count": null,
   "id": "9f372f19-c5fa-4f52-9200-621f4fb41270",
   "metadata": {},
   "outputs": [],
   "source": [
    "print(img_sitk)"
   ]
  },
  {
   "cell_type": "markdown",
   "id": "23c278c4",
   "metadata": {},
   "source": [
    "### 3.3 Other conversion methods"
   ]
  },
  {
   "cell_type": "markdown",
   "id": "5ef85fbb",
   "metadata": {},
   "source": [
    "Other conversion methods are available, for instance when working with `grayscale`, `nib`, `torch`, or `zarr`:"
   ]
  },
  {
   "cell_type": "code",
   "execution_count": 69,
   "id": "d1f6250f",
   "metadata": {},
   "outputs": [],
   "source": [
    "img_grayscale = img_dcm.to_grayscale()\n",
    "img_nib = img_dcm.to_nib()\n",
    "# img_zarr = img_dcm.to_zarr() # %pip install zarr if you want to convert to zarr\n",
    "# img_torch = img_dcm.to_torch() # %pip install torch if you want to convert to torch"
   ]
  },
  {
   "cell_type": "markdown",
   "id": "9b8733f2",
   "metadata": {},
   "source": [
    "## 4. Visualizing with k3d"
   ]
  },
  {
   "cell_type": "code",
   "execution_count": null,
   "id": "24d15401",
   "metadata": {},
   "outputs": [],
   "source": [
    "# Extract spacing, origin, and dimensions from a vtkImageData object. We need these to plot the figure in the world coordinates in k3d.\n",
    "spacing = img_sitk.GetSpacing()\n",
    "origin = img_sitk.GetOrigin()\n",
    "dimensions = img_sitk.GetSize()\n",
    "\n",
    "print(spacing)\n",
    "print(origin)\n",
    "print(dimensions)\n",
    "\n",
    "transform_matrix = np.array([\n",
    "    [spacing[0] * dimensions[0], 0, 0, origin[0]],\n",
    "    [0, spacing[1] * dimensions[1], 0, origin[1]],\n",
    "    [0, 0, spacing[2] * dimensions[2], origin[2]],\n",
    "    [0, 0, 0, 1]\n",
    "])\n",
    "\n",
    "def image2np(image):\n",
    "    imnp = sitk.GetArrayFromImage(image)\n",
    "    # Transpose and flip the array to have the same indexing and direction as the original image\n",
    "    imnp = np.transpose(imnp, (2, 1, 0))\n",
    "    imnp = np.flip(imnp, axis=2)\n",
    "    # Enforce float16 type (best for k3d)\n",
    "    imnp = imnp.astype(np.float16)\n",
    "    return imnp\n",
    "\n",
    "imnp_f16 = image2np(img_sitk)\n",
    "vmin, vmax = np.percentile(imnp_f16, [0.01, 99.99])\n",
    "\n",
    "transform_s = k3d.transform(custom_matrix=transform_matrix)\n",
    "\n",
    "# Instantiate the volume plot using k3d-jupyter\n",
    "plt_volume = k3d.volume(imnp_f16,\n",
    "                        transform=transform_s,\n",
    "                        color_map=k3d.colormaps.basic_color_maps.Binary,\n",
    "                        samples=256,\n",
    "                        alpha_coef=150,\n",
    "                        color_range=[vmin, vmax])\n",
    "plot = k3d.plot()\n",
    "plot += plt_volume\n",
    "\n",
    "# Display the plot inline\n",
    "plot.display()"
   ]
  },
  {
   "cell_type": "markdown",
   "id": "2e665546",
   "metadata": {},
   "source": [
    "---\n",
    "## Dependencies\n",
    "\n",
    "- For future reproducibility of the workflow:"
   ]
  },
  {
   "cell_type": "code",
   "execution_count": null,
   "id": "f99ecf6f",
   "metadata": {},
   "outputs": [],
   "source": [
    "%reload_ext watermark\n",
    "\n",
    "%watermark\n",
    "%watermark --iversions"
   ]
  },
  {
   "cell_type": "markdown",
   "id": "ded7beea",
   "metadata": {
    "tags": []
   },
   "source": [
    "---\n",
    "<a name=\"ref\"></a>\n",
    "## References\n",
    "\n",
    "[<sup id=\"fn1\">1</sup>](#fn1-back) Gorgolewski, K., Auer, T., Calhoun, V. et al. The brain imaging data structure, a format for organizing and describing outputs of neuroimaging experiments. Sci Data 3, 160044 (2016). https://doi.org/10.1038/sdata.2016.44"
   ]
  },
  {
   "cell_type": "markdown",
   "id": "74a046ff",
   "metadata": {},
   "source": [
    "---\n",
    "## Acknowledgements\n",
    "ORMIR MIDS is under development by memberes of the [ORMIR](https://www.ormir.org/)\n",
    "community. \n",
    "The development started during the 2nd ORMIR workshop [Sharing and Curating Open Data in Musculoskeletal Imaging Research](https://github.com/ORMIRcommunity/2024_2nd_ORMIR_WS/blob/main/README.md), Zurich, Switzerland. 15-18 January 2024. \n",
    "ORMIR MIDS is based on \n",
    "[muscle-bids](https://github.com/muscle-bids/muscle-bids), developed during the 1st ORMIR workshop [Building the Jupyter Community in MSK Imaging Research - A Jupyter Commuity Workshop](https://github.com/JCMSK/2022_JCW/blob/main/README.md), Maastricht, The Netherlands, 9-11 June 2022; \n",
    "and [ORMIR-PyVoxel](https://github.com/ormir-mids/ormir-pyvoxel) a tool to handle medical image I/O modified from [pyVoxel](https://github.com/pyvoxel/pyvoxel) by Arjun Desai.  \n"
   ]
  },
  {
   "cell_type": "markdown",
   "id": "745aeeb2-293f-4de8-aa54-acb483c2dee1",
   "metadata": {},
   "source": [
    "---\n",
    "<a name=\"attribution\"></a>\n",
    "\n",
    "Notebook created using the [template](https://github.com/ORMIRcommunity/templates/blob/main/ORMIR_nb_template.ipynb) of the [ORMIR community](https://ormircommunity.github.io/) (version 1.0, 2023)"
   ]
  }
 ],
 "metadata": {
  "kernelspec": {
   "display_name": "Python 3",
   "language": "python",
   "name": "python3"
  },
  "language_info": {
   "codemirror_mode": {
    "name": "ipython",
    "version": 3
   },
   "file_extension": ".py",
   "mimetype": "text/x-python",
   "name": "python",
   "nbconvert_exporter": "python",
   "pygments_lexer": "ipython3",
   "version": "3.7.12"
  }
 },
 "nbformat": 4,
 "nbformat_minor": 5
}
